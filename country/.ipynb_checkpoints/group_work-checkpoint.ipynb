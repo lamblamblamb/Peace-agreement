{
 "cells": [
  {
   "cell_type": "code",
   "execution_count": null,
   "metadata": {},
   "outputs": [],
   "source": [
    "import os\n",
    "os.chdir('/Users/huhu/Desktop/Data Science for Design/Assignment 3 Project + Report 1000 + Video 2mins 12.7')\n",
    "os.listdir()\n",
    "import pandas as pd\n",
    "import matplotlib.pyplot as plt\n",
    "plt.style.use('ggplot')\n",
    "import numpy as np\n",
    "import warnings \n",
    "warnings.filterwarnings('ignore')\n",
    "import bokeh\n",
    "import itertools\n",
    "from bokeh.models import ColumnDataSource, FactorRange\n",
    "from bokeh.plotting import figure, show\n",
    "from ipywidgets import interact, interact_manual\n",
    "from bokeh.io import  show, output_notebook\n",
    "from bokeh.models import ColumnDataSource\n",
    "bokeh.io.reset_output()\n",
    "bokeh.io.output_notebook()"
   ]
  },
  {
   "cell_type": "markdown",
   "metadata": {},
   "source": [
    "Data Description\n",
    "After reading in the data from PA-X Data, we can describe our data. These data are selected, since the challenge in this individual assignment is to visualise trends in violent events alongside peace agreement signings with the content of Date, Country, Natural Resources, and Environment. The links between these data and the real world can be seen in this way, if the value for NatRes or LaEn is 1, the peace agreement involves natural resources or environment factors. If the value for NatRes or LaEn is 0, natural resources or environment factors are not contained in the peace agreement."
   ]
  },
  {
   "cell_type": "code",
   "execution_count": null,
   "metadata": {},
   "outputs": [],
   "source": [
    "pec_df = pd.read_excel('peace agreement.xlsx', index_col='Dat', parse_dates=['Dat']) # read data\n"
   ]
  },
  {
   "cell_type": "code",
   "execution_count": null,
   "metadata": {},
   "outputs": [],
   "source": [
    "pec_df = pec_df[['Con','NatRes', 'LaEn']]\n"
   ]
  },
  {
   "cell_type": "code",
   "execution_count": null,
   "metadata": {},
   "outputs": [],
   "source": [
    "pec_df.dtypes # data types"
   ]
  },
  {
   "cell_type": "code",
   "execution_count": null,
   "metadata": {},
   "outputs": [],
   "source": [
    "pec_df.shape # dimension"
   ]
  },
  {
   "cell_type": "code",
   "execution_count": null,
   "metadata": {},
   "outputs": [],
   "source": [
    "pec_df.size # data size"
   ]
  },
  {
   "cell_type": "code",
   "execution_count": 1,
   "metadata": {},
   "outputs": [
    {
     "ename": "NameError",
     "evalue": "name 'pec_df' is not defined",
     "output_type": "error",
     "traceback": [
      "\u001b[0;31m---------------------------------------------------------------------------\u001b[0m",
      "\u001b[0;31mNameError\u001b[0m                                 Traceback (most recent call last)",
      "\u001b[0;32m<ipython-input-1-978421d28a09>\u001b[0m in \u001b[0;36m<module>\u001b[0;34m\u001b[0m\n\u001b[0;32m----> 1\u001b[0;31m \u001b[0mpec_df\u001b[0m\u001b[0;34m.\u001b[0m\u001b[0minfo\u001b[0m\u001b[0;34m(\u001b[0m\u001b[0;34m)\u001b[0m \u001b[0;31m# data information\u001b[0m\u001b[0;34m\u001b[0m\u001b[0;34m\u001b[0m\u001b[0m\n\u001b[0m",
      "\u001b[0;31mNameError\u001b[0m: name 'pec_df' is not defined"
     ]
    }
   ],
   "source": [
    "pec_df.info() # data information"
   ]
  },
  {
   "cell_type": "code",
   "execution_count": null,
   "metadata": {},
   "outputs": [],
   "source": [
    "np.max(pec_df.index),np.min(pec_df.index) # time span"
   ]
  },
  {
   "cell_type": "code",
   "execution_count": null,
   "metadata": {},
   "outputs": [],
   "source": [
    "pec_df.describe() # summary statistics"
   ]
  },
  {
   "cell_type": "markdown",
   "metadata": {},
   "source": [
    "# Data Exploration\n",
    "First, we select those records including NatRes/Enviroment. To initialize our analysis, we select top 10 Countries/Regions according to the Number of agreements signed."
   ]
  },
  {
   "cell_type": "code",
   "execution_count": 1,
   "metadata": {},
   "outputs": [
    {
     "ename": "NameError",
     "evalue": "name 'pec_df' is not defined",
     "output_type": "error",
     "traceback": [
      "\u001b[0;31m---------------------------------------------------------------------------\u001b[0m",
      "\u001b[0;31mNameError\u001b[0m                                 Traceback (most recent call last)",
      "\u001b[0;32m<ipython-input-1-d127afea6716>\u001b[0m in \u001b[0;36m<module>\u001b[0;34m\u001b[0m\n\u001b[1;32m      2\u001b[0m \u001b[0mSelect\u001b[0m \u001b[0mTop\u001b[0m \u001b[0;36m10\u001b[0m \u001b[0mCountries\u001b[0m\u001b[0;34m/\u001b[0m\u001b[0mRegions\u001b[0m \u001b[0maccording\u001b[0m \u001b[0mto\u001b[0m \u001b[0mthe\u001b[0m \u001b[0mNumber\u001b[0m \u001b[0mof\u001b[0m \u001b[0magreements\u001b[0m \u001b[0msigned\u001b[0m\u001b[0;34m\u001b[0m\u001b[0;34m\u001b[0m\u001b[0m\n\u001b[1;32m      3\u001b[0m \"\"\"\n\u001b[0;32m----> 4\u001b[0;31m \u001b[0mcountries\u001b[0m \u001b[0;34m=\u001b[0m \u001b[0mpec_df\u001b[0m\u001b[0;34m[\u001b[0m\u001b[0;34m(\u001b[0m\u001b[0;34m(\u001b[0m\u001b[0mpec_df\u001b[0m\u001b[0;34m.\u001b[0m\u001b[0mNatRes\u001b[0m\u001b[0;34m==\u001b[0m\u001b[0;36m1\u001b[0m\u001b[0;34m)\u001b[0m \u001b[0;34m|\u001b[0m \u001b[0;34m(\u001b[0m\u001b[0mpec_df\u001b[0m\u001b[0;34m.\u001b[0m\u001b[0mLaEn\u001b[0m \u001b[0;34m==\u001b[0m \u001b[0;36m1\u001b[0m\u001b[0;34m)\u001b[0m\u001b[0;34m)\u001b[0m\u001b[0;34m]\u001b[0m\u001b[0;34m.\u001b[0m\u001b[0mCon\u001b[0m\u001b[0;34m.\u001b[0m\u001b[0mvalues\u001b[0m\u001b[0;34m\u001b[0m\u001b[0;34m\u001b[0m\u001b[0m\n\u001b[0m\u001b[1;32m      5\u001b[0m \u001b[0mcountries\u001b[0m \u001b[0;34m=\u001b[0m \u001b[0;34m[\u001b[0m\u001b[0mi\u001b[0m\u001b[0;34m.\u001b[0m\u001b[0msplit\u001b[0m\u001b[0;34m(\u001b[0m\u001b[0;34m\"/\"\u001b[0m\u001b[0;34m)\u001b[0m \u001b[0;32mfor\u001b[0m \u001b[0mi\u001b[0m \u001b[0;32min\u001b[0m \u001b[0mcountries\u001b[0m\u001b[0;34m]\u001b[0m\u001b[0;34m\u001b[0m\u001b[0;34m\u001b[0m\u001b[0m\n\u001b[1;32m      6\u001b[0m \u001b[0;34m\u001b[0m\u001b[0m\n",
      "\u001b[0;31mNameError\u001b[0m: name 'pec_df' is not defined"
     ]
    }
   ],
   "source": [
    "\"\"\"\n",
    "Select Top 10 Countries/Regions according to the Number of agreements signed\n",
    "\"\"\"\n",
    "countries = pec_df[((pec_df.NatRes==1) | (pec_df.LaEn == 1))].Con.values\n",
    "countries = [i.split(\"/\") for i in countries]\n",
    "\n",
    "countries = list(itertools.chain.from_iterable(countries))\n",
    "countries = [i.split(\"-\") for i in countries]\n",
    "countries = list(itertools.chain.from_iterable(countries))\n",
    "countries = [i.replace('(', '').replace(')', '') for i in countries]\n",
    "\n",
    "name, counts = np.unique(countries, return_counts=True)\n",
    "cty_df = pd.DataFrame([name, counts], index=['countries', 'counts']).T\n",
    "most_agreements_cty = cty_df.sort_values('counts', ascending= False).head(10)\n",
    "most_agreements_cty.set_index('countries').plot(kind = 'bar',figsize = (16,8),rot =35)\n",
    "plt.title('Top 10 Regions with Natural Resource/Enviroment Relevant Agreement')\n",
    "plt.ylabel(\"Number\")\n",
    "plt.show()"
   ]
  },
  {
   "cell_type": "markdown",
   "metadata": {},
   "source": [
    "then, in order to see how they are distributed in time, we depict the develoment trends of such agreements' number over the time. Also, we observe the trends of general peace agreements as comparision. From our result, a multimodal distribution is shown as follows:"
   ]
  },
  {
   "cell_type": "code",
   "execution_count": null,
   "metadata": {},
   "outputs": [],
   "source": [
    "\"\"\"\n",
    "Developing trends of the general peace of agreements.\n",
    "\"\"\"\n",
    "nat_df = pec_df[((pec_df.NatRes==1) | (pec_df.LaEn == 1))]\n",
    "nat_df['Month'] = pd.Series(nat_df.index).dt.to_period('M').values\n",
    "\n",
    "fig = plt.figure()\n",
    "ax1 = fig.add_subplot(111)\n",
    "p1 = nat_df.groupby('Month')[['Con']].count().pct_change()\n",
    "p1.columns =['change']\n",
    "l1 = p1.plot(figsize = (16,8), ax = ax1)\n",
    "plt.xlabel('time')\n",
    "plt.ylabel('Change')\n",
    "# plt.legend(loc = 'topleft')\n",
    "ax2 = ax1.twinx()\n",
    "p2 = nat_df.groupby('Month')[['Con']].count()\n",
    "p2.columns =['counts']\n",
    "l2 = p2.plot(figsize = (16,8), ax = ax2,color ='blue')\n",
    "plt.ylabel('Number')\n",
    "plt.title(\"Trend of Resource/Enviroment Agreements' Number(change and counts)\")\n",
    "plt.show()"
   ]
  },
  {
   "cell_type": "markdown",
   "metadata": {},
   "source": [
    "Next, we look at the data tracking violent events across the world. Actually, in ACLED data set, there exists a variable sub_event_type, and we can select peace agreement recording from it. Then we repeat previous plots and a multimodal distribution is shown as well. Compared with the previous results, we find that:\n",
    "\n",
    "Most of top ten countries in term of NatRes/LaEn also can be found here.\n",
    "The trends however are different."
   ]
  },
  {
   "cell_type": "code",
   "execution_count": null,
   "metadata": {},
   "outputs": [],
   "source": [
    "cflct_df = pd.read_csv('conflict.csv',parse_dates=['event_date'])\n",
    "agreement_df =cflct_df.loc[cflct_df.sub_event_type=='Agreement']\n",
    "peace_id = [i.lower().find('peac') >=0 for i in agreement_df.notes.values]\n",
    "peace_event_df = agreement_df.loc[peace_id]\n",
    "name, counts = np.unique(peace_event_df.country, return_counts=True)\n",
    "cty_df = pd.DataFrame([name, counts], index=['countries', 'counts']).T\n",
    "most_event_cty = cty_df.sort_values('counts', ascending= False).head(10)\n",
    "most_event_cty.set_index('countries').plot(kind = 'bar',figsize = (16,8),rot =75)\n",
    "plt.title('Top 10 Regions with Most Recorded Event')\n",
    "plt.ylabel(\"Number\")\n",
    "plt.show()"
   ]
  },
  {
   "cell_type": "code",
   "execution_count": null,
   "metadata": {},
   "outputs": [],
   "source": [
    "cflct_df['Month'] = pd.Series(cflct_df.event_date).dt.to_period('M').values\n",
    "\n",
    "fig = plt.figure()\n",
    "ax1 = fig.add_subplot(111)\n",
    "p1 = cflct_df.groupby('Month')[['event_id_cnty']].count().pct_change()\n",
    "p1.columns =['change']\n",
    "l1 = p1.plot(figsize = (16,8), ax = ax1)\n",
    "plt.xlabel('time')\n",
    "plt.ylabel('Change')\n",
    "# plt.legend(loc = 'topleft')\n",
    "ax2 = ax1.twinx()\n",
    "p2 = cflct_df.groupby('Month')[['event_id_cnty']].count()\n",
    "p2.columns =['counts']\n",
    "\n",
    "l2 = p2.plot(figsize = (16,8), ax = ax2,color ='blue')\n",
    "plt.ylabel('Number')\n",
    "plt.title(\"Trend of Peace Agreements' Number(change and counts)\")\n",
    "plt.show()"
   ]
  },
  {
   "cell_type": "markdown",
   "metadata": {},
   "source": [
    "Comparison between conflicts number and peace agreements number"
   ]
  },
  {
   "cell_type": "code",
   "execution_count": null,
   "metadata": {},
   "outputs": [],
   "source": [
    "dt17 = pd.read_csv('2017.csv', parse_dates=['event_date']).set_index('event_date')\n",
    "dt18 = pd.read_csv('2018.csv', parse_dates=['event_date']).set_index('event_date')\n",
    "dt19 = pd.read_csv('2019.csv', parse_dates=['event_date']).set_index('event_date')\n",
    "dt_all = pd.concat([dt17, dt18, dt19])\n",
    "dt_all['Month'] = pd.Series(dt_all.index).dt.to_period('M').values\n",
    "dt_all = dt_all.groupby('Month')[['region']].count()\n",
    "dt_natres = cflct_df.groupby('Month')[['event_id_cnty']].count()\n",
    "dt_compar= dt_all.join(dt_natres, how = 'inner')\n",
    "dt_compar.columns = ['all_confilcts',  'peace agreement']\n",
    "dt_compar.plot(figsize = (12, 8))\n",
    "plt.title('Comparison between conflicts number and peace agreements number')\n",
    "plt.ylabel('Numbers')"
   ]
  },
  {
   "cell_type": "markdown",
   "metadata": {},
   "source": [
    "We cannot exactly identify NatRes/LaEn content in ACLED database. Clearly, there is much more records in this data set, which suggests that we cannot establish one to one linkage between the two data sets. Nevertheless, we try to find the relationship between NatRes/LaEn agreement trend and Conflict trend. Therefore, we are going to find and test if there is some correlations between the NatRes/LaEN and the conflicts numbers or some type of conflict number."
   ]
  },
  {
   "cell_type": "markdown",
   "metadata": {},
   "source": [
    "Probably, conflicts for natural resource are linked with war. Therefore, firstly, we try to focus on 'Battle' without geographical limitation. In the next step, we are going to test following 4 hypotheses came up as we explored the data:\n",
    "\n",
    "ResNat/LaEn number correlates with Battle event number.\n",
    "ResNat/LaEn number correlates with Armed clash event number.\n",
    "ResNat/LaEn number correlates with Government regains territory event number.\n",
    "ResNat/LaEn number correlates with Non-state actor overtakes territory event number."
   ]
  }
 ],
 "metadata": {
  "kernelspec": {
   "display_name": "Python 3",
   "language": "python",
   "name": "python3"
  },
  "language_info": {
   "codemirror_mode": {
    "name": "ipython",
    "version": 3
   },
   "file_extension": ".py",
   "mimetype": "text/x-python",
   "name": "python",
   "nbconvert_exporter": "python",
   "pygments_lexer": "ipython3",
   "version": "3.9.0"
  }
 },
 "nbformat": 4,
 "nbformat_minor": 4
}
