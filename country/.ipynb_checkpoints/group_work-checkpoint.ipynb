{
 "cells": [
  {
   "cell_type": "code",
   "execution_count": null,
   "metadata": {},
   "outputs": [],
   "source": [
    "import os\n",
    "os.chdir('/Users/huhu/Desktop/Data Science for Design/Assignment 3 Project + Report 1000 + Video 2mins 12.7')\n",
    "os.listdir()\n",
    "import pandas as pd\n",
    "import matplotlib.pyplot as plt\n",
    "plt.style.use('ggplot')\n",
    "import numpy as np\n",
    "import warnings \n",
    "warnings.filterwarnings('ignore')\n",
    "import bokeh\n",
    "import itertools\n",
    "from bokeh.models import ColumnDataSource, FactorRange\n",
    "from bokeh.plotting import figure, show\n",
    "from ipywidgets import interact, interact_manual\n",
    "from bokeh.io import  show, output_notebook\n",
    "from bokeh.models import ColumnDataSource\n",
    "bokeh.io.reset_output()\n",
    "bokeh.io.output_notebook()"
   ]
  },
  {
   "cell_type": "markdown",
   "metadata": {},
   "source": [
    "Data Description\n",
    "After reading in the data from PA-X Data, we can describe our data. These data are selected, since the challenge in this individual assignment is to visualise trends in violent events alongside peace agreement signings with the content of Date, Country, Natural Resources, and Environment. The links between these data and the real world can be seen in this way, if the value for NatRes or LaEn is 1, the peace agreement involves natural resources or environment factors. If the value for NatRes or LaEn is 0, natural resources or environment factors are not contained in the peace agreement."
   ]
  },
  {
   "cell_type": "code",
   "execution_count": null,
   "metadata": {},
   "outputs": [],
   "source": [
    "pec_df = pd.read_excel('peace agreement.xlsx', index_col='Dat', parse_dates=['Dat']) # read data\n"
   ]
  },
  {
   "cell_type": "code",
   "execution_count": null,
   "metadata": {},
   "outputs": [],
   "source": [
    "pec_df = pec_df[['Con','NatRes', 'LaEn']]\n"
   ]
  },
  {
   "cell_type": "code",
   "execution_count": null,
   "metadata": {},
   "outputs": [],
   "source": [
    "pec_df.dtypes # data types"
   ]
  },
  {
   "cell_type": "code",
   "execution_count": null,
   "metadata": {},
   "outputs": [],
   "source": [
    "pec_df.shape # dimension"
   ]
  },
  {
   "cell_type": "code",
   "execution_count": null,
   "metadata": {},
   "outputs": [],
   "source": [
    "pec_df.size # data size"
   ]
  },
  {
   "cell_type": "code",
   "execution_count": 1,
   "metadata": {},
   "outputs": [
    {
     "ename": "NameError",
     "evalue": "name 'pec_df' is not defined",
     "output_type": "error",
     "traceback": [
      "\u001b[0;31m---------------------------------------------------------------------------\u001b[0m",
      "\u001b[0;31mNameError\u001b[0m                                 Traceback (most recent call last)",
      "\u001b[0;32m<ipython-input-1-978421d28a09>\u001b[0m in \u001b[0;36m<module>\u001b[0;34m\u001b[0m\n\u001b[0;32m----> 1\u001b[0;31m \u001b[0mpec_df\u001b[0m\u001b[0;34m.\u001b[0m\u001b[0minfo\u001b[0m\u001b[0;34m(\u001b[0m\u001b[0;34m)\u001b[0m \u001b[0;31m# data information\u001b[0m\u001b[0;34m\u001b[0m\u001b[0;34m\u001b[0m\u001b[0m\n\u001b[0m",
      "\u001b[0;31mNameError\u001b[0m: name 'pec_df' is not defined"
     ]
    }
   ],
   "source": [
    "pec_df.info() # data information"
   ]
  },
  {
   "cell_type": "code",
   "execution_count": null,
   "metadata": {},
   "outputs": [],
   "source": [
    "np.max(pec_df.index),np.min(pec_df.index) # time span"
   ]
  },
  {
   "cell_type": "code",
   "execution_count": null,
   "metadata": {},
   "outputs": [],
   "source": [
    "pec_df.describe() # summary statistics"
   ]
  },
  {
   "cell_type": "markdown",
   "metadata": {},
   "source": [
    "# Data Exploration\n",
    "First, we select those records including NatRes/Enviroment. To initialize our analysis, we select top 10 Countries/Regions according to the Number of agreements signed."
   ]
  },
  {
   "cell_type": "code",
   "execution_count": 1,
   "metadata": {},
   "outputs": [
    {
     "ename": "NameError",
     "evalue": "name 'pec_df' is not defined",
     "output_type": "error",
     "traceback": [
      "\u001b[0;31m---------------------------------------------------------------------------\u001b[0m",
      "\u001b[0;31mNameError\u001b[0m                                 Traceback (most recent call last)",
      "\u001b[0;32m<ipython-input-1-d127afea6716>\u001b[0m in \u001b[0;36m<module>\u001b[0;34m\u001b[0m\n\u001b[1;32m      2\u001b[0m \u001b[0mSelect\u001b[0m \u001b[0mTop\u001b[0m \u001b[0;36m10\u001b[0m \u001b[0mCountries\u001b[0m\u001b[0;34m/\u001b[0m\u001b[0mRegions\u001b[0m \u001b[0maccording\u001b[0m \u001b[0mto\u001b[0m \u001b[0mthe\u001b[0m \u001b[0mNumber\u001b[0m \u001b[0mof\u001b[0m \u001b[0magreements\u001b[0m \u001b[0msigned\u001b[0m\u001b[0;34m\u001b[0m\u001b[0;34m\u001b[0m\u001b[0m\n\u001b[1;32m      3\u001b[0m \"\"\"\n\u001b[0;32m----> 4\u001b[0;31m \u001b[0mcountries\u001b[0m \u001b[0;34m=\u001b[0m \u001b[0mpec_df\u001b[0m\u001b[0;34m[\u001b[0m\u001b[0;34m(\u001b[0m\u001b[0;34m(\u001b[0m\u001b[0mpec_df\u001b[0m\u001b[0;34m.\u001b[0m\u001b[0mNatRes\u001b[0m\u001b[0;34m==\u001b[0m\u001b[0;36m1\u001b[0m\u001b[0;34m)\u001b[0m \u001b[0;34m|\u001b[0m \u001b[0;34m(\u001b[0m\u001b[0mpec_df\u001b[0m\u001b[0;34m.\u001b[0m\u001b[0mLaEn\u001b[0m \u001b[0;34m==\u001b[0m \u001b[0;36m1\u001b[0m\u001b[0;34m)\u001b[0m\u001b[0;34m)\u001b[0m\u001b[0;34m]\u001b[0m\u001b[0;34m.\u001b[0m\u001b[0mCon\u001b[0m\u001b[0;34m.\u001b[0m\u001b[0mvalues\u001b[0m\u001b[0;34m\u001b[0m\u001b[0;34m\u001b[0m\u001b[0m\n\u001b[0m\u001b[1;32m      5\u001b[0m \u001b[0mcountries\u001b[0m \u001b[0;34m=\u001b[0m \u001b[0;34m[\u001b[0m\u001b[0mi\u001b[0m\u001b[0;34m.\u001b[0m\u001b[0msplit\u001b[0m\u001b[0;34m(\u001b[0m\u001b[0;34m\"/\"\u001b[0m\u001b[0;34m)\u001b[0m \u001b[0;32mfor\u001b[0m \u001b[0mi\u001b[0m \u001b[0;32min\u001b[0m \u001b[0mcountries\u001b[0m\u001b[0;34m]\u001b[0m\u001b[0;34m\u001b[0m\u001b[0;34m\u001b[0m\u001b[0m\n\u001b[1;32m      6\u001b[0m \u001b[0;34m\u001b[0m\u001b[0m\n",
      "\u001b[0;31mNameError\u001b[0m: name 'pec_df' is not defined"
     ]
    }
   ],
   "source": [
    "\"\"\"\n",
    "Select Top 10 Countries/Regions according to the Number of agreements signed\n",
    "\"\"\"\n",
    "countries = pec_df[((pec_df.NatRes==1) | (pec_df.LaEn == 1))].Con.values\n",
    "countries = [i.split(\"/\") for i in countries]\n",
    "\n",
    "countries = list(itertools.chain.from_iterable(countries))\n",
    "countries = [i.split(\"-\") for i in countries]\n",
    "countries = list(itertools.chain.from_iterable(countries))\n",
    "countries = [i.replace('(', '').replace(')', '') for i in countries]\n",
    "\n",
    "name, counts = np.unique(countries, return_counts=True)\n",
    "cty_df = pd.DataFrame([name, counts], index=['countries', 'counts']).T\n",
    "most_agreements_cty = cty_df.sort_values('counts', ascending= False).head(10)\n",
    "most_agreements_cty.set_index('countries').plot(kind = 'bar',figsize = (16,8),rot =35)\n",
    "plt.title('Top 10 Regions with Natural Resource/Enviroment Relevant Agreement')\n",
    "plt.ylabel(\"Number\")\n",
    "plt.show()"
   ]
  },
  {
   "cell_type": "markdown",
   "metadata": {},
   "source": [
    "then, in order to see how they are distributed in time, we depict the develoment trends of such agreements' number over the time. Also, we observe the trends of general peace agreements as comparision. From our result, a multimodal distribution is shown as follows:"
   ]
  },
  {
   "cell_type": "code",
   "execution_count": null,
   "metadata": {},
   "outputs": [],
   "source": [
    "\"\"\"\n",
    "Developing trends of the general peace of agreements.\n",
    "\"\"\"\n",
    "nat_df = pec_df[((pec_df.NatRes==1) | (pec_df.LaEn == 1))]\n",
    "nat_df['Month'] = pd.Series(nat_df.index).dt.to_period('M').values\n",
    "\n",
    "fig = plt.figure()\n",
    "ax1 = fig.add_subplot(111)\n",
    "p1 = nat_df.groupby('Month')[['Con']].count().pct_change()\n",
    "p1.columns =['change']\n",
    "l1 = p1.plot(figsize = (16,8), ax = ax1)\n",
    "plt.xlabel('time')\n",
    "plt.ylabel('Change')\n",
    "# plt.legend(loc = 'topleft')\n",
    "ax2 = ax1.twinx()\n",
    "p2 = nat_df.groupby('Month')[['Con']].count()\n",
    "p2.columns =['counts']\n",
    "l2 = p2.plot(figsize = (16,8), ax = ax2,color ='blue')\n",
    "plt.ylabel('Number')\n",
    "plt.title(\"Trend of Resource/Enviroment Agreements' Number(change and counts)\")\n",
    "plt.show()"
   ]
  },
  {
   "cell_type": "markdown",
   "metadata": {},
   "source": [
    "Next, we look at the data tracking violent events across the world. Actually, in ACLED data set, there exists a variable sub_event_type, and we can select peace agreement recording from it. Then we repeat previous plots and a multimodal distribution is shown as well. Compared with the previous results, we find that:\n",
    "\n",
    "Most of top ten countries in term of NatRes/LaEn also can be found here.\n",
    "The trends however are different."
   ]
  },
  {
   "cell_type": "code",
   "execution_count": null,
   "metadata": {},
   "outputs": [],
   "source": [
    "cflct_df = pd.read_csv('conflict.csv',parse_dates=['event_date'])\n",
    "agreement_df =cflct_df.loc[cflct_df.sub_event_type=='Agreement']\n",
    "peace_id = [i.lower().find('peac') >=0 for i in agreement_df.notes.values]\n",
    "peace_event_df = agreement_df.loc[peace_id]\n",
    "name, counts = np.unique(peace_event_df.country, return_counts=True)\n",
    "cty_df = pd.DataFrame([name, counts], index=['countries', 'counts']).T\n",
    "most_event_cty = cty_df.sort_values('counts', ascending= False).head(10)\n",
    "most_event_cty.set_index('countries').plot(kind = 'bar',figsize = (16,8),rot =75)\n",
    "plt.title('Top 10 Regions with Most Recorded Event')\n",
    "plt.ylabel(\"Number\")\n",
    "plt.show()"
   ]
  },
  {
   "cell_type": "code",
   "execution_count": null,
   "metadata": {},
   "outputs": [],
   "source": [
    "cflct_df['Month'] = pd.Series(cflct_df.event_date).dt.to_period('M').values\n",
    "\n",
    "fig = plt.figure()\n",
    "ax1 = fig.add_subplot(111)\n",
    "p1 = cflct_df.groupby('Month')[['event_id_cnty']].count().pct_change()\n",
    "p1.columns =['change']\n",
    "l1 = p1.plot(figsize = (16,8), ax = ax1)\n",
    "plt.xlabel('time')\n",
    "plt.ylabel('Change')\n",
    "# plt.legend(loc = 'topleft')\n",
    "ax2 = ax1.twinx()\n",
    "p2 = cflct_df.groupby('Month')[['event_id_cnty']].count()\n",
    "p2.columns =['counts']\n",
    "\n",
    "l2 = p2.plot(figsize = (16,8), ax = ax2,color ='blue')\n",
    "plt.ylabel('Number')\n",
    "plt.title(\"Trend of Peace Agreements' Number(change and counts)\")\n",
    "plt.show()"
   ]
  },
  {
   "cell_type": "markdown",
   "metadata": {},
   "source": [
    "Comparison between conflicts number and peace agreements number"
   ]
  },
  {
   "cell_type": "code",
   "execution_count": null,
   "metadata": {},
   "outputs": [],
   "source": [
    "dt17 = pd.read_csv('2017.csv', parse_dates=['event_date']).set_index('event_date')\n",
    "dt18 = pd.read_csv('2018.csv', parse_dates=['event_date']).set_index('event_date')\n",
    "dt19 = pd.read_csv('2019.csv', parse_dates=['event_date']).set_index('event_date')\n",
    "dt_all = pd.concat([dt17, dt18, dt19])\n",
    "dt_all['Month'] = pd.Series(dt_all.index).dt.to_period('M').values\n",
    "dt_all = dt_all.groupby('Month')[['region']].count()\n",
    "dt_natres = cflct_df.groupby('Month')[['event_id_cnty']].count()\n",
    "dt_compar= dt_all.join(dt_natres, how = 'inner')\n",
    "dt_compar.columns = ['all_confilcts',  'peace agreement']\n",
    "dt_compar.plot(figsize = (12, 8))\n",
    "plt.title('Comparison between conflicts number and peace agreements number')\n",
    "plt.ylabel('Numbers')"
   ]
  },
  {
   "cell_type": "markdown",
   "metadata": {},
   "source": [
    "We cannot exactly identify NatRes/LaEn content in ACLED database. Clearly, there is much more records in this data set, which suggests that we cannot establish one to one linkage between the two data sets. Nevertheless, we try to find the relationship between NatRes/LaEn agreement trend and Conflict trend. Therefore, we are going to find and test if there is some correlations between the NatRes/LaEN and the conflicts numbers or some type of conflict number.\n"
   ]
  },
  {
   "cell_type": "markdown",
   "metadata": {},
   "source": [
    "Probably, conflicts for natural resource are linked with war. Therefore, firstly, we try to focus on 'Battle' without geographical limitation. In the next step, we are going to test following 4 hypotheses came up as we explored the data:\n",
    "\n",
    "- ResNat/LaEn number correlates with Battle event number.\n",
    "- ResNat/LaEn number correlates with Armed clash event number.\n",
    "- ResNat/LaEn number correlates with Government regains territory event number.\n",
    "- ResNat/LaEn number correlates with Non-state actor overtakes territory event number."
   ]
  },
  {
   "cell_type": "markdown",
   "metadata": {},
   "source": [
    "battle_df = pd.read_csv('battle.csv',parse_dates=['event_date'])\n",
    "battle_df.columns"
   ]
  },
  {
   "cell_type": "code",
   "execution_count": null,
   "metadata": {},
   "outputs": [],
   "source": [
    "battle_df[['event_date', 'country','sub_event_type']].describe()"
   ]
  },
  {
   "cell_type": "code",
   "execution_count": null,
   "metadata": {},
   "outputs": [],
   "source": [
    "battle_df[['event_date', 'country','sub_event_type']]"
   ]
  },
  {
   "cell_type": "code",
   "execution_count": null,
   "metadata": {},
   "outputs": [],
   "source": [
    "name, counts = np.unique(battle_df.country, return_counts=True)\n",
    "cty_df = pd.DataFrame([name, counts], index=['countries', 'counts']).T\n",
    "most_agreements_cty = cty_df.sort_values('counts', ascending= False).head(10)\n",
    "most_agreements_cty.set_index('countries').plot(kind = 'bar',figsize = (16,8),rot =35)\n",
    "plt.title('Top 10 Regions with Natural Resource/Enviroment Relevant Agreement')\n",
    "plt.ylabel(\"Number\")\n",
    "plt.show()"
   ]
  },
  {
   "cell_type": "code",
   "execution_count": null,
   "metadata": {},
   "outputs": [],
   "source": [
    "battle_df['Month'] = pd.Series(battle_df.event_date).dt.to_period('M').values\n",
    "\n",
    "\n",
    "p1 = battle_df.groupby('Month')[['event_id_cnty']].count().pct_change()\n",
    "p1.columns =['change']\n",
    "\n",
    "p2 = battle_df.groupby('Month')[['event_id_cnty']].count()\n",
    "p2.columns =['counts']\n"
   ]
  },
  {
   "cell_type": "code",
   "execution_count": null,
   "metadata": {},
   "outputs": [],
   "source": [
    "battle_month = pd.concat([p1, p2],axis=1).copy()"
   ]
  },
  {
   "cell_type": "code",
   "execution_count": null,
   "metadata": {},
   "outputs": [],
   "source": [
    "nat_df = pec_df[((pec_df.NatRes==1) | (pec_df.LaEn == 1))]\n",
    "nat_df['Month'] = pd.Series(nat_df.index).dt.to_period('M').values\n",
    "p1 = nat_df.groupby('Month')[['Con']].count().pct_change()\n",
    "p1.columns =['Nat_change']\n",
    "p2 = nat_df.groupby('Month')[['Con']].count()\n",
    "p2.columns =['Nat_counts']\n",
    "nat_month = pd.concat([p1, p2],axis=1).copy()\n",
    "nat_month.head()"
   ]
  },
  {
   "cell_type": "code",
   "execution_count": null,
   "metadata": {},
   "outputs": [],
   "source": [
    "battle_month.head()"
   ]
  },
  {
   "cell_type": "code",
   "execution_count": null,
   "metadata": {},
   "outputs": [],
   "source": [
    "nat_battle = nat_month.join(battle_month.shift(11)).dropna()\n",
    "from sklearn.preprocessing import StandardScaler\n",
    "scaler = StandardScaler()\n",
    "trs = scaler.fit_transform(nat_battle)\n",
    "plt_df = pd.DataFrame(trs,index = nat_battle.index, columns=nat_battle.columns)\n",
    "plt_df.plot(figsize = (18, 8))\n",
    "plt.title('Comparison Time Series')\n",
    "plt.ylabel(\"Number\")\n",
    "plt.show()"
   ]
  },
  {
   "cell_type": "markdown",
   "metadata": {},
   "source": [
    "From the figure above, we can not find out clear co-movement between NatRes/LaEn and Battle, and the correlation of them also suggests very weak."
   ]
  },
  {
   "cell_type": "code",
   "execution_count": null,
   "metadata": {},
   "outputs": [],
   "source": [
    "plt_df.corr()"
   ]
  },
  {
   "cell_type": "code",
   "execution_count": null,
   "metadata": {},
   "outputs": [],
   "source": [
    "types = list(set(battle_df.sub_event_type))\n",
    "@interact(typeo =types)\n",
    "def private_public(typeo = types[0]):\n",
    "    tmp_df =  battle_df.loc[battle_df.sub_event_type == typeo]\n",
    "    p1 = tmp_df.groupby('Month')[['event_id_cnty']].count().pct_change()\n",
    "    p1.columns =['sub event change']\n",
    "    p2 = battle_df.groupby('Month')[['event_id_cnty']].count()\n",
    "    p2.columns =['sub event counts']\n",
    "    tmp_month = pd.concat([p1, p2],axis=1).copy()\n",
    "\n",
    "    nat_df = pec_df[((pec_df.NatRes==1) | (pec_df.LaEn == 1))]\n",
    "    nat_df['Month'] = pd.Series(nat_df.index).dt.to_period('M').values\n",
    "    p1 = nat_df.groupby('Month')[['Con']].count().pct_change()\n",
    "    p1.columns =['Nat_change']\n",
    "    p2 = nat_df.groupby('Month')[['Con']].count()\n",
    "    p2.columns =['Nat_counts']\n",
    "    nat_month = pd.concat([p1, p2],axis=1).copy()\n",
    "    nat_battle = nat_month.join(tmp_month).dropna()\n",
    "\n",
    "    scaler = StandardScaler()\n",
    "    trs = scaler.fit_transform(nat_battle)\n",
    "    plt_df = pd.DataFrame(trs,index = nat_battle.index, columns=nat_battle.columns)\n",
    "    df = plt_df.copy()\n",
    "    x = pd.to_datetime([str(i) for i in df.index])\n",
    "#     ts = [pd.datetime(x,y,1) for x, y in zip(list(x.month),list(x.month))]\n",
    "    ts = pd.Series(pd.to_datetime([str(i) for i in plt_df.index]))\n",
    "    ts = [pd.to_datetime(i) for i in ts]\n",
    "\n",
    "    xs = [ ts  for i in df.columns] \n",
    "    ys = df.T.values.tolist()\n",
    "    data = {'xs': xs,\n",
    "        'ys': ys,\n",
    "        'labels': list(df.columns),\n",
    "           'color': ['black','blue', 'red','yellow']}\n",
    "\n",
    "    source = ColumnDataSource(data)  \n",
    "    p = figure(title='Time Seires Sub Event and NatRes/LaEn')\n",
    "    p.multi_line(xs='xs', ys='ys', legend='labels',color = 'color', source=source)\n",
    "    p.xaxis.axis_label = 'time'\n",
    "\n",
    "    p.legend.location = \"top_left\"\n",
    "    p.xaxis.major_label_text_font_size = '0pt'\n",
    "\n",
    "    show(p)\n",
    "    print('Correlation Matrix')\n",
    "    display(df.corr())\n",
    "    "
   ]
  },
  {
   "cell_type": "markdown",
   "metadata": {},
   "source": [
    "As shown above, we can not find trends correlation between NatRs/LatEn and Sub events. Therefore, our results are against our hypotheses. \n",
    "This is because:\n",
    "- The correlations in absoulute number counts are low.\n",
    "- The correlations in realtive percentage changes are also low.\n",
    "And we have already tested the result using some advanced algorithms and checking each hypotheses individually."
   ]
  },
  {
   "cell_type": "markdown",
   "metadata": {},
   "source": [
    "# Reflect and Hypothesis\n",
    "Reflect: From the whole data analysis process, we first describe our data, including data type, size, fields and summary. And then we carry out a deeper exploration of the data to look for the distribution of the development trends of natural resources/environment peace agreements' number and peace agreements' number over time, which are multimodal distributions, and the relationship between the NatRes/LaEN and the conflicts numbers, or some type of conflict number which further consists of our four hypotheses: ResNat/LaEn number correlates with Battle event number; Armed clash event number; Government regains territory event number; and Non-state actor overtakes territory event number. Finally, we test our hypotheses with advanced algorithms and reach the conclusion that there is very weak correlation. Therefore, it seems that in our real world, the assignment of peace agreement with content of natural resources and environment has weak correlation with those data on conflicts or violent events across the world. This may because there are some more important factors to be assigned to ceasefire.\n",
    "\n",
    "Hypothesis: ResNat/LaEn number correlates with Battle event number. ResNat/LaEn number correlates with Armed clash event number. ResNat/LaEn number correlates with Government regains territory event number. ResNat/LaEn number correlates with Non-state actor overtakes territory event number. The reason for making these hypotheses is according to the event_type and sub_event_type of battle in ACLED dataset. We try to link peace agreement data with natural resources and environment alongside data of battles in violence events. The test of our hypotheses is accomplished by advanced algorithms above. We reach the conclusion finally."
   ]
  },
  {
   "cell_type": "code",
   "execution_count": null,
   "metadata": {},
   "outputs": [],
   "source": []
  }
 ],
 "metadata": {
  "kernelspec": {
   "display_name": "Python 3",
   "language": "python",
   "name": "python3"
  },
  "language_info": {
   "codemirror_mode": {
    "name": "ipython",
    "version": 3
   },
   "file_extension": ".py",
   "mimetype": "text/x-python",
   "name": "python",
   "nbconvert_exporter": "python",
   "pygments_lexer": "ipython3",
   "version": "3.9.0"
  }
 },
 "nbformat": 4,
 "nbformat_minor": 4
}
