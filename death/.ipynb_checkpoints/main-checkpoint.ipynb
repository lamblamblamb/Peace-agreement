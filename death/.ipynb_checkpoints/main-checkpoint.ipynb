{
 "cells": [
  {
   "cell_type": "code",
   "execution_count": null,
   "metadata": {},
   "outputs": [],
   "source": []
  },
  {
   "cell_type": "markdown",
   "metadata": {},
   "source": [
    "# Setup\n",
    "First, import necessary libraries, load the agreement data from the data file and see the basic"
   ]
  },
  {
   "cell_type": "code",
   "execution_count": null,
   "metadata": {},
   "outputs": [],
   "source": [
    "import pandas as pd\n",
    "import numpy as np\n",
    "import seaborn as sns\n",
    "import matplotlib.pyplot as plt\n",
    "%matplotlib inline\n",
    "\n",
    "data = pd.read_csv(\"pax_all_agreements_data_v3.csv\")\n",
    "\n",
    "data.info()\n",
    "data.head()\n"
   ]
  },
  {
   "cell_type": "code",
   "execution_count": null,
   "metadata": {},
   "outputs": [],
   "source": [
    "# Cleaning & Checking\n",
    "\n",
    "as the data is given in standardized and systematic,so I'm gonna skip data cleanning section and just do some simple check here"
   ]
  },
  {
   "cell_type": "markdown",
   "metadata": {},
   "source": [
    "# check if duplicate data exist;\n",
    "assert any(data.duplicated()) == False\n",
    "for n in data.Contp:\n",
    "    assert n in ['Government','Territory','Government/territory','Inter-group','Other']  \n",
    "assert any(data['Contp'].isnull()) == False"
   ]
  },
  {
   "cell_type": "code",
   "execution_count": null,
   "metadata": {},
   "outputs": [],
   "source": [
    "import matplotlib.pyplot as plt\n",
    "\n",
    "# see how many are related to natural resources and how many are not \n",
    "print(data['NatRes'].value_counts())\n",
    "\n",
    "data1 = data[data.NatRes == 1]\n",
    "data2 = data[data.NatRes == 0]\n",
    "\n",
    "# see how many kind of conflict type in total and their distribution\n",
    "print(data['Contp'].value_counts())\n",
    "\n",
    "sorted_count1 = data1['Contp'].value_counts(normalize=True)\n",
    "print(sorted_count1,'natural resources related')\n",
    "\n",
    "sorted_count2 = data2['Contp'].value_counts(normalize=True)\n",
    "print(sorted_count2,'not related')\n",
    "\n",
    "\n",
    "# plt.subplot(2,1,1)\n",
    "plt.pie(sorted_count1, labels = sorted_count1.index, startangle = 90,\n",
    "        counterclock = False,autopct='%1.1f%%');\n",
    "\n",
    "# plt.subplot(2,1,2)\n",
    "\n",
    "# plt.pie(sorted_count2, labels = sorted_count2.index, startangle = 90,\n",
    "#         counterclock = False,autopct='%1.1f%%');"
   ]
  },
  {
   "cell_type": "markdown",
   "metadata": {},
   "source": [
    "## explanation\n",
    "\n",
    "as it turns out that 203 rows of peace agreement are related with natural resource, while 1629 are not.\n",
    "in those have relation with natural resource, Government/territory is the biggest Conflict type, counting for 44.8% of all peaceagreement, follow by Government type with 36%.Territory type of conflict happen quite less accounting for 6.9%\n",
    "situation is quite similar with those not related with natural resource except for a very small percentage of Other type."
   ]
  },
  {
   "cell_type": "code",
   "execution_count": null,
   "metadata": {},
   "outputs": [],
   "source": []
  }
 ],
 "metadata": {
  "kernelspec": {
   "display_name": "Python 3",
   "language": "python",
   "name": "python3"
  },
  "language_info": {
   "codemirror_mode": {
    "name": "ipython",
    "version": 3
   },
   "file_extension": ".py",
   "mimetype": "text/x-python",
   "name": "python",
   "nbconvert_exporter": "python",
   "pygments_lexer": "ipython3",
   "version": "3.6.7"
  }
 },
 "nbformat": 4,
 "nbformat_minor": 4
}
