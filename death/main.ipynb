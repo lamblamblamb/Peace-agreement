{
 "cells": [
  {
   "cell_type": "code",
   "execution_count": null,
   "metadata": {},
   "outputs": [],
   "source": []
  },
  {
   "cell_type": "markdown",
   "metadata": {},
   "source": [
    "# Setup\n",
    "First, import necessary libraries, load the agreement data from the data file and see the basic"
   ]
  },
  {
   "cell_type": "code",
   "execution_count": null,
   "metadata": {},
   "outputs": [],
   "source": [
    "import pandas as pd\n",
    "import numpy as np\n",
    "import seaborn as sns\n",
    "import matplotlib.pyplot as plt\n",
    "%matplotlib inline\n",
    "\n",
    "data = pd.read_csv(\"pax_all_agreements_data_v3.csv\")\n",
    "\n",
    "data.info()\n",
    "data.head()\n"
   ]
  },
  {
   "cell_type": "markdown",
   "metadata": {},
   "source": [
    "# Cleaning & Checking\n",
    "\n",
    "as the data is given in standardized and systematic,so I'm gonna skip data cleanning section and just do some simple check here\n",
    "\n",
    "check if duplicate data exist;"
   ]
  },
  {
   "cell_type": "code",
   "execution_count": null,
   "metadata": {},
   "outputs": [],
   "source": [
    "\n",
    "assert any(data.duplicated()) == False\n",
    "for n in data.Contp:\n",
    "    assert n in ['Government','Territory','Government/territory','Inter-group','Other']  \n",
    "assert any(data['Contp'].isnull()) == False"
   ]
  },
  {
   "cell_type": "code",
   "execution_count": null,
   "metadata": {},
   "outputs": [],
   "source": [
    "import matplotlib.pyplot as plt\n",
    "\n",
    "# see how many are related to natural resources and how many are not \n",
    "print(data['NatRes'].value_counts())\n",
    "\n",
    "data1 = data[data.NatRes == 1]\n",
    "data2 = data[data.NatRes == 0]\n",
    "\n",
    "# see how many kind of conflict type in total and their distribution\n",
    "print(data['Contp'].value_counts())\n",
    "\n",
    "sorted_count1 = data1['Contp'].value_counts(normalize=True)\n",
    "print(sorted_count1,'natural resources related')\n",
    "\n",
    "sorted_count2 = data2['Contp'].value_counts(normalize=True)\n",
    "print(sorted_count2,'not related')\n",
    "\n",
    "\n",
    "# plt.subplot(2,1,1)\n",
    "plt.pie(sorted_count1, labels = sorted_count1.index, startangle = 90,\n",
    "        counterclock = False,autopct='%1.1f%%');\n",
    "\n",
    "# plt.subplot(2,1,2)\n",
    "\n",
    "# plt.pie(sorted_count2, labels = sorted_count2.index, startangle = 90,\n",
    "#         counterclock = False,autopct='%1.1f%%');"
   ]
  },
  {
   "cell_type": "markdown",
   "metadata": {},
   "source": [
    "## explanation\n",
    "\n",
    "as it turns out that 203 rows of peace agreement are related with natural resource, while 1629 are not.\n",
    "in those have relation with natural resource, Government/territory is the biggest Conflict type, counting for 44.8% of all peaceagreement, follow by Government type with 36%.Territory type of conflict happen quite less accounting for 6.9%\n",
    "situation is quite similar with those not related with natural resource except for a very small percentage of Other type."
   ]
  },
  {
   "cell_type": "markdown",
   "metadata": {},
   "source": [
    "Now filter the data and keep those are related with natural resources."
   ]
  },
  {
   "cell_type": "code",
   "execution_count": null,
   "metadata": {},
   "outputs": [],
   "source": [
    "data = data[data.NatRes == 1]"
   ]
  },
  {
   "cell_type": "code",
   "execution_count": null,
   "metadata": {},
   "outputs": [],
   "source": [
    "import seaborn as sns\n",
    "\n",
    "%matplotlib inline\n",
    "# create a column to indicate the year when agreement was signed\n",
    "data['Dat'] = pd.to_datetime(data['Dat'])\n",
    "data['year'] = data['Dat'].dt.year\n",
    "\n",
    "sns.displot(data, x=\"year\" )\n",
    "\n",
    "ax = sns.displot(data, x=\"year\" ,kind=\"kde\" ,hue = \"Contp\")\n",
    "plt.xlim(1990,2019)\n",
    "plt.xticks(np.arange(1990, 2019,5) )\n",
    "plt.xticks( color=\"red\", rotation=45)"
   ]
  },
  {
   "cell_type": "code",
   "execution_count": null,
   "metadata": {},
   "outputs": [],
   "source": [
    "data['Reg'].value_counts()\n",
    "data1['Reg'].value_counts().head()\n",
    "sns.displot(data, x=\"Reg\" )\n",
    "plt.xticks(rotation=-35) \n",
    "sns.displot(data, x=\"Reg\", hue=\"Contp\",multiple=\"stack\")\n",
    "plt.xticks(rotation=-35) \n",
    "sns.displot(data, x=\"year\" ,kind=\"kde\" ,hue = \"Reg\")"
   ]
  },
  {
   "cell_type": "markdown",
   "metadata": {},
   "source": [
    "see how confict type change with time and see the relation between region and time"
   ]
  },
  {
   "cell_type": "code",
   "execution_count": null,
   "metadata": {},
   "outputs": [],
   "source": [
    "sns.displot(data, x=\"Contp\", y=\"Reg\", cbar=True,cmap=\"RdBu_r\")\n",
    "plt.xticks(rotation=-35)"
   ]
  }
 ],
 "metadata": {
  "kernelspec": {
   "display_name": "Python 3",
   "language": "python",
   "name": "python3"
  },
  "language_info": {
   "codemirror_mode": {
    "name": "ipython",
    "version": 3
   },
   "file_extension": ".py",
   "mimetype": "text/x-python",
   "name": "python",
   "nbconvert_exporter": "python",
   "pygments_lexer": "ipython3",
   "version": "3.6.7"
  }
 },
 "nbformat": 4,
 "nbformat_minor": 4
}
